{
  "nbformat": 4,
  "nbformat_minor": 0,
  "metadata": {
    "colab": {
      "name": "First_Neural_Network.ipynb",
      "provenance": [],
      "authorship_tag": "ABX9TyN5iemr5gbqnIY7qeyzaMN3",
      "include_colab_link": true
    },
    "kernelspec": {
      "name": "python3",
      "display_name": "Python 3"
    },
    "language_info": {
      "name": "python"
    }
  },
  "cells": [
    {
      "cell_type": "markdown",
      "metadata": {
        "id": "view-in-github",
        "colab_type": "text"
      },
      "source": [
        "<a href=\"https://colab.research.google.com/github/pooj124/DL_using_TF/blob/main/First_Neural_Network.ipynb\" target=\"_parent\"><img src=\"https://colab.research.google.com/assets/colab-badge.svg\" alt=\"Open In Colab\"/></a>"
      ]
    },
    {
      "cell_type": "markdown",
      "metadata": {
        "id": "aeeaMAsuYWwZ"
      },
      "source": [
        " UDACITY : TRAINING THE FIRST MODEL"
      ]
    },
    {
      "cell_type": "markdown",
      "metadata": {
        "id": "Dml6D0OXX7W6"
      },
      "source": [
        "**The following is a simple  project to convert Celcius to Farenheit using Tensorflow. **\n",
        "we will give TensorFlow some sample Celsius values (0, 8, 15, 22, 38) and their corresponding Fahrenheit values (32, 46, 59, 72, 100).\n",
        "Then, we will train a model that figures out the above formula through the training process.\n",
        "\n",
        "Thw formula is : f = c × 1.8 + 32"
      ]
    },
    {
      "cell_type": "markdown",
      "metadata": {
        "id": "9UG08dW_YkA2"
      },
      "source": [
        "IMPORT DEPENDENCIES"
      ]
    },
    {
      "cell_type": "markdown",
      "metadata": {
        "id": "3q37zAI6Y932"
      },
      "source": [
        "Importing Tensorflow as tf and Numpy as np, numpy is used to represent our data in the form of high performing lists."
      ]
    },
    {
      "cell_type": "code",
      "metadata": {
        "id": "mwvALk6sX6O_"
      },
      "source": [
        "import tensorflow as tf"
      ],
      "execution_count": 13,
      "outputs": []
    },
    {
      "cell_type": "markdown",
      "metadata": {
        "id": "wHOQHC_TZ67x"
      },
      "source": [
        "TensorFlow uses five different levels for log messages. In order of ascending severity, they are DEBUG, INFO, WARN, ERROR, and FATAL. if you set a logging level of ERROR, you‘ll get log output containing ERROR and FATAL messages, and if you set a level of DEBUG, you’ll get log messages from all five levels."
      ]
    },
    {
      "cell_type": "code",
      "metadata": {
        "id": "olfXwNpjZV-_"
      },
      "source": [
        "import numpy as np\n",
        "import logging\n",
        "logger = tf.get_logger()\n",
        "logger.setLevel(logging.ERROR)"
      ],
      "execution_count": 14,
      "outputs": []
    },
    {
      "cell_type": "markdown",
      "metadata": {
        "id": "5Sn5rNYNaH5v"
      },
      "source": [
        "SET UP TRAINING DATA"
      ]
    },
    {
      "cell_type": "markdown",
      "metadata": {
        "id": "xJWn0SNLaLiv"
      },
      "source": [
        "Machine Learning is about teachine the machine based on a number of inputs and outputs provided to it. Our task is to create a model that will predict the farenheit values with give the celcius values."
      ]
    },
    {
      "cell_type": "code",
      "metadata": {
        "colab": {
          "base_uri": "https://localhost:8080/"
        },
        "id": "M7nTwnbMa5QS",
        "outputId": "d5704c8a-bc65-4c52-d765-7fed21d6fa7b"
      },
      "source": [
        "celsius_q = np.array([-40, -10,  0,  8, 15, 22,  38], dtype = float)\n",
        "fahrenheit_a = np.array([-40,  14, 32, 46, 59, 72, 100],  dtype=float)\n",
        "\n",
        "for i,c in enumerate(celsius_q):\n",
        "  print(\"{} Degree Celcius = {} Degree Farenheit\".format(c, fahrenheit_a[i]))"
      ],
      "execution_count": 15,
      "outputs": [
        {
          "output_type": "stream",
          "text": [
            "-40.0 Degree Celcius = -40.0 Degree Farenheit\n",
            "-10.0 Degree Celcius = 14.0 Degree Farenheit\n",
            "0.0 Degree Celcius = 32.0 Degree Farenheit\n",
            "8.0 Degree Celcius = 46.0 Degree Farenheit\n",
            "15.0 Degree Celcius = 59.0 Degree Farenheit\n",
            "22.0 Degree Celcius = 72.0 Degree Farenheit\n",
            "38.0 Degree Celcius = 100.0 Degree Farenheit\n"
          ],
          "name": "stdout"
        }
      ]
    },
    {
      "cell_type": "markdown",
      "metadata": {
        "id": "9YXIKScCcegB"
      },
      "source": [
        "MACHINE LEARNING TERMINOLOGY\n",
        "\n",
        "Feature — The input(s) to our model. In this case, a single value — the degrees in Celsius.\n",
        "\n",
        "Labels — The output our model predicts. In this case, a single value — the degrees in Fahrenheit.\n",
        "\n",
        "Example — A pair of inputs/outputs used during training. In our case a pair of values from celsius_q and fahrenheit_a at a specific index, such as (22,72)."
      ]
    },
    {
      "cell_type": "markdown",
      "metadata": {
        "id": "XpjQwhaacoRf"
      },
      "source": [
        "dtype class is an object that describes how the bytes in the fixed-size block \n",
        "of memory corresponding to an array item should be interpreted\n",
        "\n",
        "Enumerate is used to add a counter to the iterable items.when dealing with iterators, we also get a need to keep a count of iterations. \n",
        "enumerate object can then be used directly in for loops or be converted into a list of tuples using list() method."
      ]
    },
    {
      "cell_type": "markdown",
      "metadata": {
        "id": "Va2ZtqNReTAB"
      },
      "source": [
        "CREATING A MODEL"
      ]
    },
    {
      "cell_type": "markdown",
      "metadata": {
        "id": "uylB8PWfeUyn"
      },
      "source": [
        "Next, create the model. We will use the simplest possible model we can, a Dense network. Since the problem is straightforward, this network will require only a single layer, with a single neuron.\n",
        "\n",
        "Build a layer\n",
        "We'll call the layer l0 and create it by instantiating **tf.keras.layers.Dense** with the following configuration:\n",
        "\n",
        "**input_shape=[1]** — This specifies that the input to this layer is a single value. That is, the shape is a one-dimensional array with one member. Since this is the first (and only) layer, that input shape is the input shape of the entire model. The single value is a floating point number, representing degrees Celsius.\n",
        "\n",
        "**units=1** — This specifies the number of neurons in the layer. The number of neurons defines how many internal variables the layer has to try to learn how to solve the problem (more later). Since this is the final layer, it is also the size of the model's output — a single float value representing degrees Fahrenheit. (In a multi-layered network, the size and shape of the layer would need to match the input_shape of the next layer.)"
      ]
    },
    {
      "cell_type": "code",
      "metadata": {
        "id": "W9geKB9pekL5"
      },
      "source": [
        "l0 = tf.keras.layers.Dense(units = 1, input_shape=[1])"
      ],
      "execution_count": 16,
      "outputs": []
    },
    {
      "cell_type": "markdown",
      "metadata": {
        "id": "siYyynCgfLPf"
      },
      "source": [
        "ASSEMBLE LAYERS INTO THE MODEL"
      ]
    },
    {
      "cell_type": "markdown",
      "metadata": {
        "id": "cYuB6wvCfN4-"
      },
      "source": [
        "Once layers are defined, they need to be assembled into a model. The Sequential model definition takes a list of layers as an argument, specifying the calculation order from the input to the output.\n",
        "\n",
        "This model has just a single layer, l0."
      ]
    },
    {
      "cell_type": "code",
      "metadata": {
        "id": "DZN8DVL6fRs3"
      },
      "source": [
        "model = tf.keras.Sequential([l0])"
      ],
      "execution_count": 17,
      "outputs": []
    },
    {
      "cell_type": "markdown",
      "metadata": {
        "id": "zTKAVTGafpxZ"
      },
      "source": [
        "**Note**\n",
        "\n",
        "You will often see the layers defined inside the model definition, rather than beforehand:\n",
        "\n",
        "model = tf.keras.Sequential([\n",
        "  tf.keras.layers.Dense(units=1, input_shape=[1])\n",
        "])"
      ]
    },
    {
      "cell_type": "markdown",
      "metadata": {
        "id": "LzhXnEvwgPio"
      },
      "source": [
        "COMPLIE MODEL WITH LOSS AND OPTIMIZER FUNCTION\n",
        "\n",
        "Before training, the model has to be compiled. When compiled for training, the model is given:\n",
        "\n",
        "**Loss function** — A way of measuring how far off predictions are from the desired outcome. (The measured difference is called the \"loss\".)\n",
        "\n",
        "**Optimizer function** — A way of adjusting internal values in order to reduce the loss."
      ]
    },
    {
      "cell_type": "code",
      "metadata": {
        "id": "aJj93-9Jieij"
      },
      "source": [
        "model.compile(loss=\"mean_squared_error\", optimizer = tf.keras.optimizers.Adam(0.1))"
      ],
      "execution_count": 19,
      "outputs": []
    },
    {
      "cell_type": "markdown",
      "metadata": {
        "id": "uc5qEtQEj9dg"
      },
      "source": [
        "These are used during training (model.fit(), below) to first calculate the loss at each point, and then improve it. In fact, the act of calculating the current loss of a model and then improving it is precisely what training is.\n",
        "\n",
        "During training, the optimizer function is used to calculate adjustments to the model's internal variables. The goal is to adjust the internal variables until the model (which is really a math function) mirrors the actual equation for converting Celsius to Fahrenheit.\n",
        "\n",
        "TensorFlow uses numerical analysis to perform this tuning, and all this complexity is hidden from you so we will not go into the details here. What is useful to know about these parameters are:\n",
        "\n",
        "The loss function (mean squared error) and the optimizer (Adam) used here are standard for simple models like this one, but many others are available. It is not important to know how these specific functions work at this point.\n",
        "\n",
        "One part of the Optimizer you may need to think about when building your own models is the learning rate (0.1 in the code above). This is the step size taken when adjusting values in the model. If the value is too small, it will take too many iterations to train the model. Too large, and accuracy goes down. Finding a good value often involves some trial and error, but the range is usually within 0.001 (default), and 0.1"
      ]
    },
    {
      "cell_type": "markdown",
      "metadata": {
        "id": "ShLdPS-jkAf-"
      },
      "source": [
        "TRAINING THE MODEL\n",
        "\n",
        "Train the model by calling the fit method.\n",
        "\n",
        "During training, the model takes in Celsius values, performs a calculation using the current internal variables (called \"weights\") and outputs values which are meant to be the Fahrenheit equivalent. Since the weights are initially set randomly, the output will not be close to the correct value. The difference between the actual output and the desired output is calculated using the loss function, and the optimizer function directs how the weights should be adjusted.\n",
        "\n",
        "This cycle of calculate, compare, adjust is controlled by the fit method. The first argument is the inputs, the second argument is the desired outputs. The **epochs** argument specifies how many times this cycle should be run, and the **verbose** argument controls how much output the method produces."
      ]
    },
    {
      "cell_type": "code",
      "metadata": {
        "colab": {
          "base_uri": "https://localhost:8080/"
        },
        "id": "5K3HjSLWlg__",
        "outputId": "43107c51-851c-44f1-ee01-7d6990cb58a7"
      },
      "source": [
        "history = model.fit(celsius_q, fahrenheit_a, epochs = 500, verbose=False)\n",
        "print(\"Finished training the model\")"
      ],
      "execution_count": 20,
      "outputs": [
        {
          "output_type": "stream",
          "text": [
            "Finished training the model\n"
          ],
          "name": "stdout"
        }
      ]
    },
    {
      "cell_type": "markdown",
      "metadata": {
        "id": "V5yGwnYimVOt"
      },
      "source": [
        "DISPLAY TRAINING STATISTICS\n",
        "\n",
        "In the below code we will viualize our model using matplotlib, we will be able to see how the loss is reducing with every iteration. If the loss is reducing it means that our model's prediction value and the value we mentioned in our farenheit output list are alomost close , this indicates that the difference is less and the loss is less."
      ]
    },
    {
      "cell_type": "code",
      "metadata": {
        "colab": {
          "base_uri": "https://localhost:8080/",
          "height": 296
        },
        "id": "Bex9yJdlmgW1",
        "outputId": "67d8579f-0596-4708-b827-61903afa6a28"
      },
      "source": [
        "import matplotlib.pyplot as plt\n",
        "plt.xlabel('Epoch Number')\n",
        "plt.ylabel(\"Loss Magnitude\")\n",
        "plt.plot(history.history['loss'])"
      ],
      "execution_count": 23,
      "outputs": [
        {
          "output_type": "execute_result",
          "data": {
            "text/plain": [
              "[<matplotlib.lines.Line2D at 0x7fbf92f4c690>]"
            ]
          },
          "metadata": {
            "tags": []
          },
          "execution_count": 23
        },
        {
          "output_type": "display_data",
          "data": {
            "image/png": "[encoded data removed]",
            "text/plain": [
              "<Figure size 432x288 with 1 Axes>"
            ]
          },
          "metadata": {
            "tags": [],
            "needs_background": "light"
          }
        }
      ]
    },
    {
      "cell_type": "markdown",
      "metadata": {
        "id": "Rsv7CxhXnU1t"
      },
      "source": [
        "USING THE MODEL TO PREDICT VALUES\n",
        "\n",
        "We have a model that has been trained to learn the relationship between celsius_q and fahrenheit_a. You can use the predict method to have it calculate the Fahrenheit degrees for a previously unknown Celsius degrees.\n",
        "\n",
        "So, for example, if the Celsius value is 100, let's check the farenheit equivalent of this."
      ]
    },
    {
      "cell_type": "code",
      "metadata": {
        "colab": {
          "base_uri": "https://localhost:8080/"
        },
        "id": "QuWEgxq5nhXB",
        "outputId": "9a514d66-1e58-403e-f2b7-f1a2862583af"
      },
      "source": [
        "print(model.predict([100.0]))"
      ],
      "execution_count": 24,
      "outputs": [
        {
          "output_type": "stream",
          "text": [
            "[[211.28062]]\n"
          ],
          "name": "stdout"
        }
      ]
    },
    {
      "cell_type": "markdown",
      "metadata": {
        "id": "wQOQL3dfnnU9"
      },
      "source": [
        "The correct answer is  100×1.8+32=212 , so our model is doing really well.\n",
        "\n",
        "To review\n",
        "We created a model with a Dense layer\n",
        "We trained it with 3500 examples (7 pairs, over 500 epochs).\n",
        "Our model tuned the variables (weights) in the Dense layer until it was able to return the correct Fahrenheit value for any Celsius value. (Remember, 100 Celsius was not part of our training data.)"
      ]
    },
    {
      "cell_type": "markdown",
      "metadata": {
        "id": "F-pocAyanwMG"
      },
      "source": [
        "CHECKING THE INTERNAL WEIGHTS"
      ]
    },
    {
      "cell_type": "code",
      "metadata": {
        "id": "hn0_kYpLn1GM"
      },
      "source": [
        "print(\"These are the layer variables: {}\".format(l0.get_weights()))"
      ],
      "execution_count": null,
      "outputs": []
    },
    {
      "cell_type": "markdown",
      "metadata": {
        "id": "ggGdTSnkn381"
      },
      "source": [
        "The layer we created is \"l0\", we check the final weight of this layer after getting the correct output. \n",
        "The first variable is close to ~1.8 and the second to ~32. These values (1.8 and 32) are the actual variables in the real conversion formula.\n",
        "\n",
        "This is really close to the values in the conversion formula. We'll explain this in an upcoming video where we show how a Dense layer works, but for a single neuron with a single input and a single output, the internal math looks the same as the equation for a line,  y=mx+b , which has the same form as the conversion equation,  f=1.8c+32 .\n",
        "\n",
        "Since the form is the same, the variables should converge on the standard values of 1.8 and 32, which is exactly what happened.\n",
        "\n",
        "With additional neurons, additional inputs, and additional outputs, the formula becomes much more complex, but the idea is the same."
      ]
    }
  ]
}
